{
 "cells": [
  {
   "cell_type": "markdown",
   "id": "628e264a",
   "metadata": {},
   "source": [
    "# ***Praktikum 1***"
   ]
  },
  {
   "cell_type": "markdown",
   "id": "03de5129",
   "metadata": {},
   "source": [
    "Percobaan 1\n",
    "\n",
    "Pada percobaan 1 kali ini, kita akan mencoba membandingkan hasil dari exact NN dengan ANNOY. data yang kita buat adalah data random 2D, dengan 1000 data point, mencari 3 data terdekat dari query point, Metric Similarity menggunakan Euclidean, dengan 3 tree Annoy.\n",
    "\n",
    "Instalasi Annoy dulu untuk langkah awal."
   ]
  },
  {
   "cell_type": "code",
   "execution_count": null,
   "id": "67f10faa",
   "metadata": {},
   "outputs": [],
   "source": [
    "%pip install annoy"
   ]
  },
  {
   "cell_type": "markdown",
   "id": "a7d6755b",
   "metadata": {},
   "source": [
    "Berikutnya jalankan code berikut, baca dengan seksama codenya baris demi baris dan pahami. lakukan beberapa kali percobaan dan perhatikan juga hasilnya. catat hasilnya jika menggunakan jumlah tree yang berbeda."
   ]
  },
  {
   "cell_type": "code",
   "execution_count": null,
   "id": "fe915b2e",
   "metadata": {},
   "outputs": [],
   "source": [
    "import numpy as np\n",
    "import matplotlib as plt\n",
    "import time\n",
    "from annoy import AnnoyIndex\n",
    "\n",
    "np.random.seed(42)\n",
    "n_points = 1000\n",
    "X = np.random.rand(n_points, 2) * 100\n",
    "\n",
    "query = X[np.random.randint(0, n_points)]\n",
    "start = time.time()\n",
    "dist = np.linalg.norm(X - query, axis = 1)\n",
    "idx_exact = np.argsort(dist)[:3]\n",
    "time_exact = time.time() - start\n",
    "\n",
    "print(\"Exact NN index:\", idx_exact)\n",
    "print(\"Exact NN jarak:\", dist[idx_exact])\n",
    "print(\"Waktu Exact:\", round(time_exact*1000, 4), \"ms\")\n",
    "\n",
    "f = 2 \n",
    "t = AnnoyIndex(f, 'euclidean')\n",
    "for i,vec in enumerate(X):\n",
    "    t.add_item(i, vec)\n",
    "t.build(3)\n",
    "\n",
    "start = time.time()\n",
    "idx_ann = t.get_nns_by_vector(query, 3)\n",
    "time_ann = time.time() - start\n",
    "\n",
    "print(\"\\nAnnoy NN index:\", idx_ann)\n",
    "print(\"Annoy NN jarak:\", [np.linalg.norm(X[i]-query) for i in idx_ann])\n",
    "print(\"Waktu Annoy:\", round(time_ann*1000, 4), \"ms\")\n",
    "\n",
    "plt.scatter(X[:,0], X[:,1], c=\"lightgray\", s=20, label=\"Dataset\")\n",
    "plt.scatter(query[0], query[1], c=\"red\", marker=\"x\", s=100, label=\"Query\")\n",
    "plt.scatter(X[idx_exact,0], X[idx_exact,1], c=\"blue\", s=80, label=\"Exact NN\")\n",
    "plt.scatter(X[idx_ann,0], X[idx_ann,1], c=\"green\", s=50, marker=\"s\", label=\"Annoy NN\")\n",
    "plt.legend()\n",
    "plt.title(\"Exact NN vs Annoy NN (3 trees)\")\n",
    "plt.show()\n"
   ]
  }
 ],
 "metadata": {
  "kernelspec": {
   "display_name": "Python 3",
   "language": "python",
   "name": "python3"
  },
  "language_info": {
   "codemirror_mode": {
    "name": "ipython",
    "version": 3
   },
   "file_extension": ".py",
   "mimetype": "text/x-python",
   "name": "python",
   "nbconvert_exporter": "python",
   "pygments_lexer": "ipython3",
   "version": "3.13.3"
  }
 },
 "nbformat": 4,
 "nbformat_minor": 5
}
