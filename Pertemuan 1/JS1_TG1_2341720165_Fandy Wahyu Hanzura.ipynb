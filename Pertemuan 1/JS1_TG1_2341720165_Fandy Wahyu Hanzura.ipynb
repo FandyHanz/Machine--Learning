{
 "cells": [
  {
   "cell_type": "markdown",
   "id": "818ced4e",
   "metadata": {},
   "source": [
    "***Bagian 1***"
   ]
  },
  {
   "cell_type": "markdown",
   "id": "ea492a21",
   "metadata": {},
   "source": [
    "\n",
    "1. Lakukan instalasi library berikut pada notebook,\n",
    "\n",
    "    1. PyPREP\n",
    "    2. Scipy\n",
    "    3. wandb\n",
    "    4. pyECG"
   ]
  },
  {
   "cell_type": "code",
   "execution_count": 2,
   "id": "c733554f",
   "metadata": {},
   "outputs": [
    {
     "name": "stdout",
     "output_type": "stream",
     "text": [
      "Requirement already satisfied: pyPREP in /home/fandy/.local/lib/python3.8/site-packages (0.4.3)\n",
      "Requirement already satisfied: numpy>=1.20.2 in /home/fandy/.local/lib/python3.8/site-packages (from pyPREP) (1.24.4)\n",
      "Requirement already satisfied: scipy>=1.6.3 in /home/fandy/.local/lib/python3.8/site-packages (from pyPREP) (1.10.1)\n",
      "Requirement already satisfied: psutil>=5.4.3 in /home/fandy/.local/lib/python3.8/site-packages (from pyPREP) (7.1.0)\n",
      "Requirement already satisfied: mne>=1.3.0 in /home/fandy/.local/lib/python3.8/site-packages (from pyPREP) (1.6.1)\n",
      "Requirement already satisfied: packaging in /home/fandy/.local/lib/python3.8/site-packages (from mne>=1.3.0->pyPREP) (25.0)\n",
      "Requirement already satisfied: jinja2 in /home/fandy/.local/lib/python3.8/site-packages (from mne>=1.3.0->pyPREP) (3.1.6)\n",
      "Requirement already satisfied: matplotlib>=3.5.0 in /home/fandy/.local/lib/python3.8/site-packages (from mne>=1.3.0->pyPREP) (3.7.5)\n",
      "Requirement already satisfied: decorator in /home/fandy/.local/lib/python3.8/site-packages (from mne>=1.3.0->pyPREP) (5.2.1)\n",
      "Requirement already satisfied: pooch>=1.5 in /home/fandy/.local/lib/python3.8/site-packages (from mne>=1.3.0->pyPREP) (1.8.2)\n",
      "Requirement already satisfied: importlib-resources>=5.10.2; python_version < \"3.9\" in /home/fandy/.local/lib/python3.8/site-packages (from mne>=1.3.0->pyPREP) (6.4.5)\n",
      "Requirement already satisfied: lazy-loader>=0.3 in /home/fandy/.local/lib/python3.8/site-packages (from mne>=1.3.0->pyPREP) (0.4)\n",
      "Requirement already satisfied: tqdm in /home/fandy/.local/lib/python3.8/site-packages (from mne>=1.3.0->pyPREP) (4.67.1)\n",
      "Requirement already satisfied: MarkupSafe>=2.0 in /home/fandy/.local/lib/python3.8/site-packages (from jinja2->mne>=1.3.0->pyPREP) (2.1.5)\n",
      "Requirement already satisfied: kiwisolver>=1.0.1 in /home/fandy/.local/lib/python3.8/site-packages (from matplotlib>=3.5.0->mne>=1.3.0->pyPREP) (1.4.7)\n",
      "Requirement already satisfied: contourpy>=1.0.1 in /home/fandy/.local/lib/python3.8/site-packages (from matplotlib>=3.5.0->mne>=1.3.0->pyPREP) (1.1.1)\n",
      "Requirement already satisfied: cycler>=0.10 in /home/fandy/.local/lib/python3.8/site-packages (from matplotlib>=3.5.0->mne>=1.3.0->pyPREP) (0.12.1)\n",
      "Requirement already satisfied: fonttools>=4.22.0 in /home/fandy/.local/lib/python3.8/site-packages (from matplotlib>=3.5.0->mne>=1.3.0->pyPREP) (4.57.0)\n",
      "Requirement already satisfied: pillow>=6.2.0 in /usr/lib/python3/dist-packages (from matplotlib>=3.5.0->mne>=1.3.0->pyPREP) (7.0.0)\n",
      "Requirement already satisfied: python-dateutil>=2.7 in /home/fandy/.local/lib/python3.8/site-packages (from matplotlib>=3.5.0->mne>=1.3.0->pyPREP) (2.9.0.post0)\n",
      "Requirement already satisfied: pyparsing>=2.3.1 in /home/fandy/.local/lib/python3.8/site-packages (from matplotlib>=3.5.0->mne>=1.3.0->pyPREP) (3.1.4)\n",
      "Requirement already satisfied: requests>=2.19.0 in /usr/lib/python3/dist-packages (from pooch>=1.5->mne>=1.3.0->pyPREP) (2.22.0)\n",
      "Requirement already satisfied: platformdirs>=2.5.0 in /home/fandy/.local/lib/python3.8/site-packages (from pooch>=1.5->mne>=1.3.0->pyPREP) (4.3.6)\n",
      "Requirement already satisfied: zipp>=3.1.0; python_version < \"3.10\" in /home/fandy/.local/lib/python3.8/site-packages (from importlib-resources>=5.10.2; python_version < \"3.9\"->mne>=1.3.0->pyPREP) (3.20.2)\n",
      "Requirement already satisfied: six>=1.5 in /usr/lib/python3/dist-packages (from python-dateutil>=2.7->matplotlib>=3.5.0->mne>=1.3.0->pyPREP) (1.14.0)\n",
      "Note: you may need to restart the kernel to use updated packages.\n",
      "Requirement already satisfied: Scipy in /home/fandy/.local/lib/python3.8/site-packages (1.10.1)\n",
      "Requirement already satisfied: numpy<1.27.0,>=1.19.5 in /home/fandy/.local/lib/python3.8/site-packages (from Scipy) (1.24.4)\n",
      "Note: you may need to restart the kernel to use updated packages.\n",
      "Requirement already satisfied: wandb in /home/fandy/.local/lib/python3.8/site-packages (0.21.4)\n",
      "Requirement already satisfied: pyyaml in /usr/lib/python3/dist-packages (from wandb) (5.3.1)\n",
      "Requirement already satisfied: typing-extensions<5,>=4.8 in /home/fandy/.local/lib/python3.8/site-packages (from wandb) (4.13.2)\n",
      "Requirement already satisfied: platformdirs in /home/fandy/.local/lib/python3.8/site-packages (from wandb) (4.3.6)\n",
      "Requirement already satisfied: pydantic<3 in /home/fandy/.local/lib/python3.8/site-packages (from wandb) (2.10.6)\n",
      "Requirement already satisfied: gitpython!=3.1.29,>=1.0.0 in /home/fandy/.local/lib/python3.8/site-packages (from wandb) (3.1.45)\n",
      "Requirement already satisfied: requests<3,>=2.0.0 in /usr/lib/python3/dist-packages (from wandb) (2.22.0)\n",
      "Requirement already satisfied: click>=8.0.1 in /home/fandy/.local/lib/python3.8/site-packages (from wandb) (8.1.8)\n",
      "Requirement already satisfied: sentry-sdk>=2.0.0 in /home/fandy/.local/lib/python3.8/site-packages (from wandb) (2.38.0)\n",
      "Requirement already satisfied: packaging in /home/fandy/.local/lib/python3.8/site-packages (from wandb) (25.0)\n",
      "Requirement already satisfied: eval-type-backport; python_version < \"3.10\" in /home/fandy/.local/lib/python3.8/site-packages (from wandb) (0.2.2)\n",
      "Requirement already satisfied: protobuf!=4.21.0,!=5.28.0,<7,>=3.12.0; python_version < \"3.9\" and sys_platform == \"linux\" in /home/fandy/.local/lib/python3.8/site-packages (from wandb) (5.29.5)\n",
      "Requirement already satisfied: annotated-types>=0.6.0 in /home/fandy/.local/lib/python3.8/site-packages (from pydantic<3->wandb) (0.7.0)\n",
      "Requirement already satisfied: pydantic-core==2.27.2 in /home/fandy/.local/lib/python3.8/site-packages (from pydantic<3->wandb) (2.27.2)\n",
      "Requirement already satisfied: gitdb<5,>=4.0.1 in /home/fandy/.local/lib/python3.8/site-packages (from gitpython!=3.1.29,>=1.0.0->wandb) (4.0.12)\n",
      "Requirement already satisfied: certifi in /usr/lib/python3/dist-packages (from sentry-sdk>=2.0.0->wandb) (2019.11.28)\n",
      "Requirement already satisfied: urllib3>=1.26.11 in /home/fandy/.local/lib/python3.8/site-packages (from sentry-sdk>=2.0.0->wandb) (2.2.3)\n",
      "Requirement already satisfied: smmap<6,>=3.0.1 in /home/fandy/.local/lib/python3.8/site-packages (from gitdb<5,>=4.0.1->gitpython!=3.1.29,>=1.0.0->wandb) (5.0.2)\n",
      "Note: you may need to restart the kernel to use updated packages.\n"
     ]
    }
   ],
   "source": [
    "%pip install pyPREP\n",
    "%pip install Scipy\n",
    "%pip install wandb\n",
    "#error pada library pyECG karena tidak tersedia"
   ]
  },
  {
   "cell_type": "markdown",
   "id": "2f9ae154",
   "metadata": {},
   "source": [
    "2. Jelaskan kegunakan masing-masing library tersebut:\n",
    "\n",
    "    - pyPERP digunakan sebagai bahan dalam pemprosesan pipeline dari data yang EEG (electroencephalography), digunakan dalam memfasilitasi data secara otomasi dilengkapi dengan fitur mendeteksi adanya signal yang buruk pada data, menghapus data yang yang menggangu\n",
    "\n",
    "    - Scipy dgunakan sebagai library yang digunakan dalam komputasi yang berkhusus di lingkungan scientific, beberapa fitur yang ada dalam library ini antara lain:\n",
    "\n",
    "        1. signal processing yakni digunakan sebagai alat filter, dan special processing\n",
    "\n",
    "        2. Optimization yakni digunakan dalam menemukan nilai minimum sebuah fungsi dan error dalam model\n",
    "\n",
    "        3. Statistic digunakan dalam menghasilkan fungsi fungsi statistik seperti distribusi normal, regressi\n",
    "\n",
    "        4. Linear Algebra digunakan dalam menghasilkan fungsi linear seperti operasi matrix dan decomposition\n",
    "\n",
    "        5. Image processing digunakan sebagai fungsi yang digunakan dalam memodifikasi gambar\n",
    "\n",
    "    - Wandb yang merupakan kependekan dari Wand and Bias digunakan sebagai alat menampilkan, tracking, beberapa fungsi lanjutan diantaranya:\n",
    "        \n",
    "        1. Track metrics yakni digunakan dalam perbandingan model seperti perbandingan error, akurasi, serta parameter yang dapat dikostumisasi sesuai dengan kebutuhan pengguna\n",
    "\n",
    "        2. Visualize Model adalah fitur dimana dapat mempresentasikan model dalam bentuk grafik, gradien yang sesuai dengan kebutuhan\n",
    "\n",
    "        3. Hyperparameter manager dapat mengatur parameter yang di highlight seusai dengan kebutuhan\n",
    "\n",
    "        4. Collaborate dapat melakukan kolaborasi dengan sesama tim dalam pengembangan model terkait\n",
    "\n",
    "    - pyECG adalah library yang tidak tersedia / tidak ada\n"
   ]
  },
  {
   "cell_type": "markdown",
   "id": "c12ee676",
   "metadata": {},
   "source": [
    "***Bagian 2***"
   ]
  },
  {
   "cell_type": "markdown",
   "id": "3316d84d",
   "metadata": {},
   "source": [
    "1. Berikan contoh tentang tidakan melanggar etika dan hukum tentang penggunaan kecerdasan buatan. Sertakan referensi yang digunakan.\n",
    "\n",
    "    - pelanggaran privasi dengan menggunakan wajah orang lain sebagai konten deepfake (https://selular.id/2025/09/konten-deepfake-di-indonesia-naik-550/)\n",
    "\n",
    "    - Penggunaan Ai sebagai media dalam memantau orang tanpa memikirkan privasi (https://bitterwinter.org/chinas-high-tech-surveillance-state-a-digital-despotism/?gad_source=1&gad_campaignid=11726773838&gbraid=0AAAAAC6C3PeD7HcCFc_CII4iwpTkxMOzB&gclid=CjwKCAjwiY_GBhBEEiwAFaghvnXC_zXy83kOGlOBbQPNdlk7l98OrtsMIwm19Fi0hYPgi7Ts8ruYvRoCwqEQAvD_BwE)"
   ]
  },
  {
   "cell_type": "markdown",
   "id": "77139c70",
   "metadata": {},
   "source": [
    "2. Berikan contoh tentang dampak energi dan lingkungan terhadap pemanfaatan kecerdasan buatan dan bagaimana cara mengatasinya (Anda dapat memberikan pendapat pribadi). Sertakan referensi yang digunakan.\n",
    "\n",
    "    - Pemanfaatan energi yang sangat besar dalam pengembangan AI (https://www.serverwatch.com/servers/server-room-power-consumption/). Cara mengatasi nya bisa dengan memanfaatkan energi terbarukan seperti membangun pembangkit listrik, peningkatan suhu juga berpengaruh kepada penggunaan listrik yang tinggi sehingga usahakan membangun perangkat yang memadai dalam menangani panas dari komputasi yang ada\n",
    "\n",
    "    - Pemanfaatan lingkungan yang secara besar besaran untuk membuat teknologi yang digunakan dalam pengembangan teknologi AI \n",
    "    (https://beritasampit.com/2023/10/12/perusahaan-tambang-pasir-silica-diduga-kuat-melakukan-ilegal-mining/).Cara dalam menangani adalah bisa melakukan terhadap bahan yang terbarukan sehingga memaksimalkan efisiensi dari biaya dan pengembangan perangkat "
   ]
  }
 ],
 "metadata": {
  "kernelspec": {
   "display_name": "Python 3",
   "language": "python",
   "name": "python3"
  },
  "language_info": {
   "codemirror_mode": {
    "name": "ipython",
    "version": 3
   },
   "file_extension": ".py",
   "mimetype": "text/x-python",
   "name": "python",
   "nbconvert_exporter": "python",
   "pygments_lexer": "ipython3",
   "version": "3.8.10"
  }
 },
 "nbformat": 4,
 "nbformat_minor": 5
}
