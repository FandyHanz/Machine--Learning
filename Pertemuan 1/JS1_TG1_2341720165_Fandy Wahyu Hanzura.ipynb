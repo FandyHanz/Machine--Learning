{
 "cells": [
  {
   "cell_type": "markdown",
   "id": "818ced4e",
   "metadata": {},
   "source": [
    "***Bagian 1***"
   ]
  },
  {
   "cell_type": "markdown",
   "id": "ea492a21",
   "metadata": {},
   "source": [
    "\n",
    "1. Lakukan instalasi library berikut pada notebook,\n",
    "\n",
    "    1. PyPREP\n",
    "    2. Scipy\n",
    "    3. wandb\n",
    "    4. pyECG"
   ]
  },
  {
   "cell_type": "code",
   "execution_count": null,
   "id": "c733554f",
   "metadata": {},
   "outputs": [],
   "source": [
    "!pip install pyPREP\n",
    "!pip install Scipy\n",
    "!pip install wandb\n",
    "#error pada library pyECG karena tidak tersedia"
   ]
  },
  {
   "cell_type": "markdown",
   "id": "2f9ae154",
   "metadata": {},
   "source": [
    "2. Jelaskan kegunakan masing-masing library tersebut:\n",
    "\n",
    "    - pyPERP digunakan sebagai bahan dalam pemprosesan pipeline dari data yang EEG (electroencephalography), digunakan dalam memfasilitasi data secara otomasi dilengkapi dengan fitur mendeteksi adanya signal yang buruk pada data, menghapus data yang yang menggangu\n",
    "\n",
    "    - Scipy dgunakan sebagai library yang digunakan dalam komputasi yang berkhusus di lingkungan scientific, beberapa fitur yang ada dalam library ini antara lain:\n",
    "\n",
    "        1. signal processing yakni digunakan sebagai alat filter, dan special processing\n",
    "\n",
    "        2. Optimization yakni digunakan dalam menemukan nilai minimum sebuah fungsi dan error dalam model\n",
    "\n",
    "        3. Statistic digunakan dalam menghasilkan fungsi fungsi statistik seperti distribusi normal, regressi\n",
    "\n",
    "        4. Linear Algebra digunakan dalam menghasilkan fungsi linear seperti operasi matrix dan decomposition\n",
    "\n",
    "        5. Image processing digunakan sebagai fungsi yang digunakan dalam memodifikasi gambar\n",
    "\n",
    "    - Wandb yang merupakan kependekan dari Wand and Bias digunakan sebagai alat menampilkan, tracking, beberapa fungsi lanjutan diantaranya:\n",
    "        \n",
    "        1. Track metrics yakni digunakan dalam perbandingan model seperti perbandingan error, akurasi, serta parameter yang dapat dikostumisasi sesuai dengan kebutuhan pengguna\n",
    "\n",
    "        2. Visualize Model adalah fitur dimana dapat mempresentasikan model dalam bentuk grafik, gradien yang sesuai dengan kebutuhan\n",
    "\n",
    "        3. Hyperparameter manager dapat mengatur parameter yang di highlight seusai dengan kebutuhan\n",
    "\n",
    "        4. Collaborate dapat melakukan kolaborasi dengan sesama tim dalam pengembangan model terkait\n",
    "\n",
    "    - pyECG adalah library yang tidak tersedia / tidak ada\n"
   ]
  },
  {
   "cell_type": "markdown",
   "id": "c12ee676",
   "metadata": {},
   "source": [
    "***Bagian 2***"
   ]
  },
  {
   "cell_type": "markdown",
   "id": "3316d84d",
   "metadata": {},
   "source": [
    "1. Berikan contoh tentang tidakan melanggar etika dan hukum tentang penggunaan kecerdasan buatan. Sertakan referensi yang digunakan.\n",
    "\n",
    "    - pelanggaran privasi dengan menggunakan wajah orang lain sebagai konten deepfake (https://selular.id/2025/09/konten-deepfake-di-indonesia-naik-550/)\n",
    "\n",
    "    - Penggunaan Ai sebagai media dalam memantau orang tanpa memikirkan privasi (https://bitterwinter.org/chinas-high-tech-surveillance-state-a-digital-despotism/?gad_source=1&gad_campaignid=11726773838&gbraid=0AAAAAC6C3PeD7HcCFc_CII4iwpTkxMOzB&gclid=CjwKCAjwiY_GBhBEEiwAFaghvnXC_zXy83kOGlOBbQPNdlk7l98OrtsMIwm19Fi0hYPgi7Ts8ruYvRoCwqEQAvD_BwE)"
   ]
  },
  {
   "cell_type": "markdown",
   "id": "77139c70",
   "metadata": {},
   "source": [
    "2. Berikan contoh tentang dampak energi dan lingkungan terhadap pemanfaatan kecerdasan buatan dan bagaimana cara mengatasinya (Anda dapat memberikan pendapat pribadi). Sertakan referensi yang digunakan.\n",
    "\n",
    "    - Pemanfaatan energi yang sangat besar dalam pengembangan AI (https://www.serverwatch.com/servers/server-room-power-consumption/). Cara mengatasi nya bisa dengan memanfaatkan energi terbarukan seperti membangun pembangkit listrik, peningkatan suhu juga berpengaruh kepada penggunaan listrik yang tinggi sehingga usahakan membangun perangkat yang memadai dalam menangani panas dari komputasi yang ada\n",
    "\n",
    "    - Pemanfaatan lingkungan yang secara besar besaran untuk membuat teknologi yang digunakan dalam pengembangan teknologi AI \n",
    "    (https://beritasampit.com/2023/10/12/perusahaan-tambang-pasir-silica-diduga-kuat-melakukan-ilegal-mining/).Cara dalam menangani adalah bisa melakukan terhadap bahan yang terbarukan sehingga memaksimalkan efisiensi dari biaya dan pengembangan perangkat "
   ]
  }
 ],
 "metadata": {
  "kernelspec": {
   "display_name": "Python 3",
   "language": "python",
   "name": "python3"
  },
  "language_info": {
   "codemirror_mode": {
    "name": "ipython",
    "version": 3
   },
   "file_extension": ".py",
   "mimetype": "text/x-python",
   "name": "python",
   "nbconvert_exporter": "python",
   "pygments_lexer": "ipython3",
   "version": "3.13.3"
  }
 },
 "nbformat": 4,
 "nbformat_minor": 5
}
